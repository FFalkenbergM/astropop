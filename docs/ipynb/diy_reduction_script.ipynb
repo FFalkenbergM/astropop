{
 "cells": [
  {
   "cell_type": "markdown",
   "metadata": {},
   "source": [
    "# Make Your Own Reduction Scrypt (photometry)\n",
    "\n",
    "*Work in Progress*\n",
    "\n",
    "ASTROPOP is not a reduction script by itself, but a library containing (almost) everything you need to create your reduction script by yourself.\n",
    "\n",
    "In this guide we will follow a standard reduction procedure using the ASTROPOP modules and you can follow it to perform your own reduction.\n",
    "\n",
    "If you want to use this notebook directly in your Jupyter, you can download it in [this link](https://raw.githubusercontent.com/sparc4-dev/astropop/main/docs/ipynb/diy_reduction_script.ipynb)."
   ]
  },
  {
   "cell_type": "markdown",
   "metadata": {},
   "source": [
    "## Organize Your Data\n",
    "\n",
    "The first step is to organize your data. *Do not forget to backup all the raw data before start your reduction!*\n",
    "\n",
    "Here we will perform a reduction using just bias and flatfield corrections, in a single band. No dark frame subtraction will be used, so we do not have to set it.\n",
    "\n",
    "First, we will have to create the lists containing the image names we need. You can do it manually, using [glob](https://docs.python.org/3/library/glob.html) package, or the built-in file organizer of ASTROPOP. This last option allow filtering using header keys, but may be slow and memory consuming for very large sets (with thousands of images). For didatic reasons, we will to it with ASTROPOP file organizer.\n",
    "\n",
    "Is convenient to set now some directory names for raw, reduced and temporary files, as in the code bellow."
   ]
  },
  {
   "cell_type": "code",
   "execution_count": null,
   "metadata": {},
   "outputs": [],
   "source": [
    "import os\n",
    "# Directories where we will storefiles\n",
    "base_dir = os.path.expanduser('~/astropop-tutorial/photometry-example/raw')\n",
    "raw_dir = os.path.join(base_dir, 'raw')  # Directory containing the rawdata\n",
    "reduced_dir = os.path.join(base_dir, 'reduced')  # Directory to store processed data\n",
    "tmp_dir = os.path.join(base_dir, 'tmp')  # Directory to store temporary files\n",
    "\n",
    "# create the dir if not exists\n",
    "os.makedirs(raw_dir, exist_ok=True)  \n",
    "os.makedirs(reduced_dir, exist_ok=True)\n",
    "os.makedirs(tmp_dir, exist_ok=True)"
   ]
  },
  {
   "cell_type": "markdown",
   "metadata": {},
   "source": [
    "In this tutorial, we will a set of images of HD5980 star taken in Observatório do Pico dos Dias (OPD/LNA) and available in [github/sparc4-dev/astropop-data](https://github.com/sparc4-dev/astropop-data) repository.\n",
    "\n",
    "To download these data in the raw folder, follow the script bellow."
   ]
  },
  {
   "cell_type": "code",
   "execution_count": null,
   "metadata": {},
   "outputs": [],
   "source": [
    "# Downloading the data\n",
    "import urllib.request\n",
    "import os\n",
    "\n",
    "with urllib.request.urlopen('https://raw.githubusercontent.com/sparc4-dev/astropop-data/main/raw_images/opd_ixon_bc_hd5980/filelist.txt') as f:\n",
    "    for line in f.readlines():\n",
    "        url = line.decode('UTF-8')\n",
    "        filename = os.path.join(raw_dir, url.split('/')[-1].split('?')[0])\n",
    "        urllib.request.urlretrieve(url, filename)"
   ]
  },
  {
   "cell_type": "markdown",
   "metadata": {},
   "source": [
    "With `astropop.file_collection.FitsFileGroup` we will create a dynamic library of fits files. This library allow iterate over its files, filter by header keywords, access file names or direct access a given index. In this case, we will access only the file names via `FitsFileGroup.files` property."
   ]
  },
  {
   "cell_type": "code",
   "execution_count": null,
   "metadata": {},
   "outputs": [],
   "source": [
    "from astropop.file_collection import FitsFileGroup\n",
    "\n",
    "main_fg = FitsFileGroup(location=raw_dir, fits_ext=['.fits'])\n",
    "\n",
    "print(f'Total files: {len(main_fg)}')\n",
    "\n",
    "# Filter files by header keywords\n",
    "bias_fg = main_fg.filtered({'obstype': 'BIAS'})  # OBSTYPE='BIAS'\n",
    "print(f'Bias files: {len(bias_fg)}')\n",
    "print(bias_fg.files)\n",
    "flat_fg = main_fg.filtered({'obstype': 'FLAT'})  # OBSTYPE='FLAT'\n",
    "print(f'Flat files: {len(flat_fg)}')\n",
    "print(flat_fg.files)\n",
    "star_fg = main_fg.filtered({'obstype': 'SCIENCE', 'object': 'HD5980'})  # OBSTYPE='SCIENCE' and OBJECT='HD5980'\n",
    "print(f'Star files: {len(star_fg)}')\n",
    "print(star_fg.files)"
   ]
  },
  {
   "cell_type": "markdown",
   "metadata": {},
   "source": [
    "## Master Calibration Frames\n",
    "\n",
    "Before process the science images, we need to create the `master_bias` and `master_flat` calibration frames.\n",
    "\n",
    "### Master Bias"
   ]
  },
  {
   "cell_type": "markdown",
   "metadata": {},
   "source": [
    "## Basic CCD Image Processing "
   ]
  },
  {
   "cell_type": "markdown",
   "metadata": {},
   "source": [
    "## Align and Stack"
   ]
  },
  {
   "cell_type": "markdown",
   "metadata": {},
   "source": [
    "## Source Detection and Photometry"
   ]
  },
  {
   "cell_type": "markdown",
   "metadata": {},
   "source": [
    "## Photometry Calibration with Online Catalogs"
   ]
  }
 ],
 "metadata": {
  "interpreter": {
   "hash": "162041a95dc008afa7a541b7cce9944c08c53eb30e22b146ef152cba0893111e"
  },
  "kernelspec": {
   "display_name": "Python 3.9.7 64-bit ('astropop': conda)",
   "language": "python",
   "name": "python3"
  },
  "language_info": {
   "codemirror_mode": {
    "name": "ipython",
    "version": 3
   },
   "file_extension": ".py",
   "mimetype": "text/x-python",
   "name": "python",
   "nbconvert_exporter": "python",
   "pygments_lexer": "ipython3",
   "version": "3.9.7"
  },
  "orig_nbformat": 4
 },
 "nbformat": 4,
 "nbformat_minor": 2
}
